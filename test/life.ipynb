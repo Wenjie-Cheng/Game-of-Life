{
 "cells": [
  {
   "cell_type": "code",
   "execution_count": 17,
   "id": "e337b9ad-35b0-42e0-a610-cb2c7fa5657c",
   "metadata": {},
   "outputs": [],
   "source": [
    "import os\n",
    "import sys\n",
    "\n",
    "test_dir = os.path.dirname(\"life.ipynb\")\n",
    "life_dir = os.path.join( test_dir, \"..\", \"src\" )\n",
    "sys.path.append(life_dir)\n",
    "\n",
    "from life import Life\n"
   ]
  },
  {
   "cell_type": "code",
   "execution_count": 18,
   "id": "9799e896-afed-467c-8954-876e49b02062",
   "metadata": {},
   "outputs": [],
   "source": [
    "filename = '../data/life.txt'\n",
    "# filename = '../data/1000x1000_0.1.txt'\n",
    "# filename = '../data/10000x10000_0.1.txt'\n"
   ]
  },
  {
   "cell_type": "code",
   "execution_count": 19,
   "id": "b53f4924-cef0-4563-a0cf-ae2496da27b7",
   "metadata": {},
   "outputs": [
    {
     "data": {
      "text/plain": [
       "[bitarray('0000000'),\n",
       " bitarray('0000000'),\n",
       " bitarray('0001000'),\n",
       " bitarray('0000100'),\n",
       " bitarray('0011100'),\n",
       " bitarray('0000000'),\n",
       " bitarray('0000000')]"
      ]
     },
     "execution_count": 19,
     "metadata": {},
     "output_type": "execute_result"
    }
   ],
   "source": [
    "life = Life(filename)\n",
    "life.grid"
   ]
  },
  {
   "cell_type": "code",
   "execution_count": 20,
   "id": "f0230f80-9faa-4ba1-9e67-65f58387e7b9",
   "metadata": {},
   "outputs": [],
   "source": [
    "life.tick_grid(1)"
   ]
  },
  {
   "cell_type": "code",
   "execution_count": 21,
   "id": "40eec565-9674-425d-a75d-fb6416846688",
   "metadata": {},
   "outputs": [
    {
     "data": {
      "text/plain": [
       "[bitarray('0000000'),\n",
       " bitarray('0000000'),\n",
       " bitarray('0000000'),\n",
       " bitarray('0010100'),\n",
       " bitarray('0001100'),\n",
       " bitarray('0001000'),\n",
       " bitarray('0000000')]"
      ]
     },
     "execution_count": 21,
     "metadata": {},
     "output_type": "execute_result"
    }
   ],
   "source": [
    "life.grid"
   ]
  },
  {
   "cell_type": "code",
   "execution_count": 22,
   "id": "126e93bb-93d0-41b2-b5b8-77cbd64d55f8",
   "metadata": {},
   "outputs": [
    {
     "ename": "AttributeError",
     "evalue": "'Life' object has no attribute 'write_grid'",
     "output_type": "error",
     "traceback": [
      "\u001b[1;31m---------------------------------------------------------------------------\u001b[0m",
      "\u001b[1;31mAttributeError\u001b[0m                            Traceback (most recent call last)",
      "Cell \u001b[1;32mIn[22], line 1\u001b[0m\n\u001b[1;32m----> 1\u001b[0m \u001b[43mlife\u001b[49m\u001b[38;5;241;43m.\u001b[39;49m\u001b[43mwrite_grid\u001b[49m()\n",
      "\u001b[1;31mAttributeError\u001b[0m: 'Life' object has no attribute 'write_grid'"
     ]
    }
   ],
   "source": [
    "life.write_grid()"
   ]
  },
  {
   "cell_type": "code",
   "execution_count": null,
   "id": "8ec01c97-bb3b-4c22-a1f0-aa5a7af1871f",
   "metadata": {},
   "outputs": [],
   "source": []
  }
 ],
 "metadata": {
  "kernelspec": {
   "display_name": "Python 3 (ipykernel)",
   "language": "python",
   "name": "python3"
  },
  "language_info": {
   "codemirror_mode": {
    "name": "ipython",
    "version": 3
   },
   "file_extension": ".py",
   "mimetype": "text/x-python",
   "name": "python",
   "nbconvert_exporter": "python",
   "pygments_lexer": "ipython3",
   "version": "3.12.5"
  }
 },
 "nbformat": 4,
 "nbformat_minor": 5
}
