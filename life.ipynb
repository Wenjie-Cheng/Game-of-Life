{
 "cells": [
  {
   "cell_type": "code",
   "execution_count": 3,
   "id": "e337b9ad-35b0-42e0-a610-cb2c7fa5657c",
   "metadata": {},
   "outputs": [],
   "source": [
    "from life import Life"
   ]
  },
  {
   "cell_type": "code",
   "execution_count": 8,
   "id": "bf0ed51a-7817-4c8f-8808-342fa9d25797",
   "metadata": {},
   "outputs": [
    {
     "name": "stdout",
     "output_type": "stream",
     "text": [
      "Help on Life in module life object:\n",
      "\n",
      "class Life(builtins.object)\n",
      " |  Life(filename)\n",
      " |\n",
      " |  A python implementation of Game of Life\n",
      " |\n",
      " |  part of BGP\n",
      " |\n",
      " |  Methods defined here:\n",
      " |\n",
      " |  __init__(self, filename)\n",
      " |      Create a game of life object\n",
      " |\n",
      " |      Args:\n",
      " |          filename: Input file name.\n",
      " |\n",
      " |      Raises:\n",
      " |          Exceptions: If input data is invalid.\n",
      " |\n",
      " |  tick_grid(self, n)\n",
      " |      Applies the rules of Game of Life for specified number of generations.\n",
      " |\n",
      " |      Args:\n",
      " |      n: Number of generations\n",
      " |\n",
      " |  ----------------------------------------------------------------------\n",
      " |  Data descriptors defined here:\n",
      " |\n",
      " |  __dict__\n",
      " |      dictionary for instance variables\n",
      " |\n",
      " |  __weakref__\n",
      " |      list of weak references to the object\n",
      "\n"
     ]
    }
   ],
   "source": [
    "help(life)"
   ]
  },
  {
   "cell_type": "code",
   "execution_count": 4,
   "id": "9799e896-afed-467c-8954-876e49b02062",
   "metadata": {},
   "outputs": [],
   "source": [
    "filename = 'life.txt'"
   ]
  },
  {
   "cell_type": "code",
   "execution_count": 5,
   "id": "b53f4924-cef0-4563-a0cf-ae2496da27b7",
   "metadata": {},
   "outputs": [
    {
     "data": {
      "text/plain": [
       "[bitarray('0000000'),\n",
       " bitarray('0000000'),\n",
       " bitarray('0001000'),\n",
       " bitarray('0000100'),\n",
       " bitarray('0011100'),\n",
       " bitarray('0000000'),\n",
       " bitarray('0000000')]"
      ]
     },
     "execution_count": 5,
     "metadata": {},
     "output_type": "execute_result"
    }
   ],
   "source": [
    "life = Life(filename)\n",
    "life.grid"
   ]
  },
  {
   "cell_type": "code",
   "execution_count": 9,
   "id": "f0230f80-9faa-4ba1-9e67-65f58387e7b9",
   "metadata": {},
   "outputs": [
    {
     "ename": "TypeError",
     "evalue": "'int' object is not iterable",
     "output_type": "error",
     "traceback": [
      "\u001b[1;31m---------------------------------------------------------------------------\u001b[0m",
      "\u001b[1;31mTypeError\u001b[0m                                 Traceback (most recent call last)",
      "Cell \u001b[1;32mIn[9], line 1\u001b[0m\n\u001b[1;32m----> 1\u001b[0m \u001b[43mlife\u001b[49m\u001b[38;5;241;43m.\u001b[39;49m\u001b[43mtick_grid\u001b[49m\u001b[43m(\u001b[49m\u001b[38;5;241;43m1\u001b[39;49m\u001b[43m)\u001b[49m\n",
      "File \u001b[1;32m~\\BGP\\life.py:47\u001b[0m, in \u001b[0;36mLife.tick_grid\u001b[1;34m(self, n)\u001b[0m\n\u001b[0;32m     39\u001b[0m \u001b[38;5;28;01mdef\u001b[39;00m \u001b[38;5;21mtick_grid\u001b[39m(\u001b[38;5;28mself\u001b[39m,n):\n\u001b[0;32m     40\u001b[0m \u001b[38;5;250m    \u001b[39m\u001b[38;5;124;03m\"\"\"Applies the rules of Game of Life for specified number of generations.\u001b[39;00m\n\u001b[0;32m     41\u001b[0m \u001b[38;5;124;03m\u001b[39;00m\n\u001b[0;32m     42\u001b[0m \u001b[38;5;124;03m    Args:\u001b[39;00m\n\u001b[1;32m   (...)\u001b[0m\n\u001b[0;32m     45\u001b[0m \u001b[38;5;124;03m    \u001b[39;00m\n\u001b[0;32m     46\u001b[0m \u001b[38;5;124;03m    \"\"\"\u001b[39;00m\n\u001b[1;32m---> 47\u001b[0m \u001b[43m    \u001b[49m\u001b[38;5;28;43;01mfor\u001b[39;49;00m\u001b[43m \u001b[49m\u001b[43mi\u001b[49m\u001b[43m \u001b[49m\u001b[38;5;129;43;01min\u001b[39;49;00m\u001b[43m \u001b[49m\u001b[43mn\u001b[49m\u001b[43m:\u001b[49m\n\u001b[0;32m     48\u001b[0m \u001b[43m        \u001b[49m\u001b[38;5;28;43;01mfor\u001b[39;49;00m\u001b[43m \u001b[49m\u001b[43my\u001b[49m\u001b[43m,\u001b[49m\u001b[43mrow\u001b[49m\u001b[43m \u001b[49m\u001b[38;5;129;43;01min\u001b[39;49;00m\u001b[43m \u001b[49m\u001b[38;5;28;43menumerate\u001b[39;49m\u001b[43m(\u001b[49m\u001b[38;5;28;43mself\u001b[39;49m\u001b[38;5;241;43m.\u001b[39;49m\u001b[43mgrid\u001b[49m\u001b[43m[\u001b[49m\u001b[38;5;241;43m1\u001b[39;49m\u001b[43m:\u001b[49m\u001b[38;5;241;43m-\u001b[39;49m\u001b[38;5;241;43m1\u001b[39;49m\u001b[43m]\u001b[49m\u001b[43m)\u001b[49m\u001b[43m:\u001b[49m\n\u001b[0;32m     49\u001b[0m \u001b[43m            \u001b[49m\u001b[43my1\u001b[49m\u001b[43m,\u001b[49m\u001b[43my2\u001b[49m\u001b[43m \u001b[49m\u001b[38;5;241;43m=\u001b[39;49m\u001b[43m \u001b[49m\u001b[43my\u001b[49m\u001b[38;5;241;43m+\u001b[39;49m\u001b[38;5;241;43m1\u001b[39;49m\u001b[43m,\u001b[49m\u001b[43my\u001b[49m\u001b[38;5;241;43m+\u001b[39;49m\u001b[38;5;241;43m2\u001b[39;49m\u001b[43m   \u001b[49m\n",
      "\u001b[1;31mTypeError\u001b[0m: 'int' object is not iterable"
     ]
    }
   ],
   "source": [
    "life.tick_grid(1)"
   ]
  },
  {
   "cell_type": "code",
   "execution_count": 5,
   "id": "40eec565-9674-425d-a75d-fb6416846688",
   "metadata": {},
   "outputs": [
    {
     "data": {
      "text/plain": [
       "[bitarray('0000000'),\n",
       " bitarray('0000000'),\n",
       " bitarray('0000000'),\n",
       " bitarray('0010100'),\n",
       " bitarray('0001100'),\n",
       " bitarray('0001000'),\n",
       " bitarray('0000000')]"
      ]
     },
     "execution_count": 5,
     "metadata": {},
     "output_type": "execute_result"
    }
   ],
   "source": [
    "life.grid"
   ]
  }
 ],
 "metadata": {
  "kernelspec": {
   "display_name": "Python 3 (ipykernel)",
   "language": "python",
   "name": "python3"
  },
  "language_info": {
   "codemirror_mode": {
    "name": "ipython",
    "version": 3
   },
   "file_extension": ".py",
   "mimetype": "text/x-python",
   "name": "python",
   "nbconvert_exporter": "python",
   "pygments_lexer": "ipython3",
   "version": "3.12.5"
  }
 },
 "nbformat": 4,
 "nbformat_minor": 5
}
