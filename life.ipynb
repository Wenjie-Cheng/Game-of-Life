{
 "cells": [
  {
   "cell_type": "code",
   "execution_count": 1,
   "id": "e337b9ad-35b0-42e0-a610-cb2c7fa5657c",
   "metadata": {},
   "outputs": [],
   "source": [
    "from life import Life"
   ]
  },
  {
   "cell_type": "code",
   "execution_count": 4,
   "id": "9799e896-afed-467c-8954-876e49b02062",
   "metadata": {},
   "outputs": [],
   "source": [
    "filename = 'life.txt'"
   ]
  },
  {
   "cell_type": "code",
   "execution_count": 5,
   "id": "b53f4924-cef0-4563-a0cf-ae2496da27b7",
   "metadata": {},
   "outputs": [
    {
     "data": {
      "text/plain": [
       "[bitarray('0000000'),\n",
       " bitarray('0000000'),\n",
       " bitarray('0001000'),\n",
       " bitarray('0000100'),\n",
       " bitarray('0011100'),\n",
       " bitarray('0000000'),\n",
       " bitarray('0000000')]"
      ]
     },
     "execution_count": 5,
     "metadata": {},
     "output_type": "execute_result"
    }
   ],
   "source": [
    "life = Life(filename)\n",
    "life.grid"
   ]
  },
  {
   "cell_type": "code",
   "execution_count": 6,
   "id": "f0230f80-9faa-4ba1-9e67-65f58387e7b9",
   "metadata": {},
   "outputs": [],
   "source": [
    "life.tick_grid(1)"
   ]
  },
  {
   "cell_type": "code",
   "execution_count": 7,
   "id": "40eec565-9674-425d-a75d-fb6416846688",
   "metadata": {},
   "outputs": [
    {
     "data": {
      "text/plain": [
       "[bitarray('0000000'),\n",
       " bitarray('0000000'),\n",
       " bitarray('0000000'),\n",
       " bitarray('0010100'),\n",
       " bitarray('0001100'),\n",
       " bitarray('0001000'),\n",
       " bitarray('0000000')]"
      ]
     },
     "execution_count": 7,
     "metadata": {},
     "output_type": "execute_result"
    }
   ],
   "source": [
    "life.grid"
   ]
  },
  {
   "cell_type": "code",
   "execution_count": 8,
   "id": "25dc3522-a99d-4948-9cc8-38b549a7eebb",
   "metadata": {},
   "outputs": [
    {
     "name": "stdout",
     "output_type": "stream",
     "text": [
      "Help on Life in module life object:\n",
      "\n",
      "class Life(builtins.object)\n",
      " |  Life(filename)\n",
      " |\n",
      " |  A python implementation of Game of Life\n",
      " |\n",
      " |  part of BGP\n",
      " |\n",
      " |  Methods defined here:\n",
      " |\n",
      " |  __init__(self, filename)\n",
      " |      Create a game of life object\n",
      " |\n",
      " |      Args:\n",
      " |          filename: Input file name.\n",
      " |\n",
      " |      Raises:\n",
      " |          Exceptions: If input data is invalid.\n",
      " |\n",
      " |  tick_grid(self, n)\n",
      " |      Applies the rules of Game of Life for specified number of generations.\n",
      " |\n",
      " |      Args:\n",
      " |      n: Number of generations\n",
      " |\n",
      " |  ----------------------------------------------------------------------\n",
      " |  Data descriptors defined here:\n",
      " |\n",
      " |  __dict__\n",
      " |      dictionary for instance variables\n",
      " |\n",
      " |  __weakref__\n",
      " |      list of weak references to the object\n",
      "\n"
     ]
    }
   ],
   "source": [
    "help(life)"
   ]
  },
  {
   "cell_type": "code",
   "execution_count": null,
   "id": "f5efe2fa-34a2-4bb8-96c1-6efe7dd520f6",
   "metadata": {},
   "outputs": [],
   "source": []
  }
 ],
 "metadata": {
  "kernelspec": {
   "display_name": "Python 3 (ipykernel)",
   "language": "python",
   "name": "python3"
  },
  "language_info": {
   "codemirror_mode": {
    "name": "ipython",
    "version": 3
   },
   "file_extension": ".py",
   "mimetype": "text/x-python",
   "name": "python",
   "nbconvert_exporter": "python",
   "pygments_lexer": "ipython3",
   "version": "3.12.5"
  }
 },
 "nbformat": 4,
 "nbformat_minor": 5
}
