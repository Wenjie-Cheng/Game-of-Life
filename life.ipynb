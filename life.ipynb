{
 "cells": [
  {
   "cell_type": "code",
   "execution_count": 1,
   "id": "26be5575-6b91-43bf-82c2-de54ebfd24e5",
   "metadata": {},
   "outputs": [],
   "source": [
    "def read_grid(filename):\n",
    "    grid = []\n",
    "    with open(filename) as f:\n",
    "        \n",
    "        w,h = map(int, f.readline().split(' ', 1))\n",
    "        \n",
    "        for y in range(h + 2):\n",
    "            # grid.append([0] * w)\n",
    "            grid.append(bytearray(w + 2)) # save memory, bitarray is also avaliable\n",
    "            \n",
    "        for no, line in enumerate(f):\n",
    "            try:\n",
    "                y , x = map(int, line.split(' ', 1))\n",
    "                \n",
    "                if y < 0 or x < 0:\n",
    "                    raise ValueError\n",
    "\n",
    "            except ValueError:\n",
    "                raise Exception(f\"Invaild cell on line {no+2}.\")\n",
    "\n",
    "\n",
    "            grid[y + 1][x + 1] = 1\n",
    "    return grid"
   ]
  },
  {
   "cell_type": "code",
   "execution_count": 2,
   "id": "9799e896-afed-467c-8954-876e49b02062",
   "metadata": {},
   "outputs": [],
   "source": [
    "filename = 'life.txt'"
   ]
  },
  {
   "cell_type": "code",
   "execution_count": 3,
   "id": "b53f4924-cef0-4563-a0cf-ae2496da27b7",
   "metadata": {},
   "outputs": [
    {
     "data": {
      "text/plain": [
       "[bytearray(b'\\x00\\x00\\x00\\x00\\x00\\x00\\x00'),\n",
       " bytearray(b'\\x00\\x00\\x00\\x00\\x00\\x00\\x00'),\n",
       " bytearray(b'\\x00\\x00\\x00\\x01\\x00\\x00\\x00'),\n",
       " bytearray(b'\\x00\\x00\\x00\\x00\\x01\\x00\\x00'),\n",
       " bytearray(b'\\x00\\x00\\x01\\x01\\x01\\x00\\x00'),\n",
       " bytearray(b'\\x00\\x00\\x00\\x00\\x00\\x00\\x00'),\n",
       " bytearray(b'\\x00\\x00\\x00\\x00\\x00\\x00\\x00')]"
      ]
     },
     "execution_count": 3,
     "metadata": {},
     "output_type": "execute_result"
    }
   ],
   "source": [
    "read_grid(filename)"
   ]
  },
  {
   "cell_type": "code",
   "execution_count": 4,
   "id": "caddae92-2a34-42d7-8c14-01c6c2ad7cb7",
   "metadata": {},
   "outputs": [],
   "source": [
    "%load_ext line_profiler"
   ]
  },
  {
   "cell_type": "code",
   "execution_count": 5,
   "id": "1a9053bd-af0d-46ad-83e8-c59da56b6aa3",
   "metadata": {},
   "outputs": [
    {
     "data": {
      "text/plain": [
       "Timer unit: 1e-07 s\n",
       "\n",
       "Total time: 0.0005287 s\n",
       "File: C:\\Users\\cheng\\AppData\\Local\\Temp\\ipykernel_25788\\2943098932.py\n",
       "Function: read_grid at line 1\n",
       "\n",
       "Line #      Hits         Time  Per Hit   % Time  Line Contents\n",
       "==============================================================\n",
       "     1                                           def read_grid(filename):\n",
       "     2         1         26.0     26.0      0.5      grid = []\n",
       "     3         2       3040.0   1520.0     57.5      with open(filename) as f:\n",
       "     4                                                   \n",
       "     5         1       1159.0   1159.0     21.9          w,h = map(int, f.readline().split(' ', 1))\n",
       "     6                                                   \n",
       "     7         8         97.0     12.1      1.8          for y in range(h + 2):\n",
       "     8                                                       # grid.append([0] * w)\n",
       "     9         7        123.0     17.6      2.3              grid.append(bytearray(w + 2)) # save memory, bitarray is also avaliable\n",
       "    10                                                       \n",
       "    11         6        488.0     81.3      9.2          for no, line in enumerate(f):\n",
       "    12         5         39.0      7.8      0.7              try:\n",
       "    13         5        159.0     31.8      3.0                  y , x = map(int, line.split(' ', 1))\n",
       "    14                                                           \n",
       "    15         5         70.0     14.0      1.3                  if y < 0 or x < 0:\n",
       "    16                                                               raise ValueError\n",
       "    17                                           \n",
       "    18                                                       except ValueError:\n",
       "    19                                                           raise Exception(f\"Invaild cell on line {no+2}.\")\n",
       "    20                                           \n",
       "    21                                           \n",
       "    22         5         63.0     12.6      1.2              grid[y + 1][x + 1] = 1\n",
       "    23         1         23.0     23.0      0.4      return grid"
      ]
     },
     "metadata": {},
     "output_type": "display_data"
    }
   ],
   "source": [
    "%lprun -f read_grid read_grid(filename)"
   ]
  },
  {
   "cell_type": "code",
   "execution_count": 13,
   "id": "65514829-11ee-44a3-9485-99c36866bdd8",
   "metadata": {},
   "outputs": [],
   "source": [
    "def tick_grid(grid):\n",
    "    h,w = len(grid) - 2, len(grid[0]) - 2\n",
    "\n",
    "    nextgrid = []\n",
    "    for y in range(h + 2):\n",
    "        nextgrid.append(bytearray(w + 2))\n",
    "        \n",
    "    for y,row in enumerate(grid):\n",
    "        if y == 0 or y == h + 1:\n",
    "            continue\n",
    "            \n",
    "        for x,cell in enumerate(row):\n",
    "            if x == 0 or x == w + 1:\n",
    "                continue\n",
    "            count = 0\n",
    "            count += grid[y-1][x-1]\n",
    "            count += grid[y-1][x]\n",
    "            count += grid[y-1][x+1]\n",
    "            count += grid[y][x-1]\n",
    "            count += grid[y][x+1]\n",
    "            count += grid[y+1][x-1]\n",
    "            count += grid[y+1][x]\n",
    "            count += grid[y+1][x+1]\n",
    "\n",
    "            # if cell:           \n",
    "            #     nextgen = 1 if count == 2 or count == 3 else 0\n",
    "            # else:    \n",
    "            #     nextgen = 1 if count == 3 else 0\n",
    "\n",
    "            nextgrid[y + 1][x + 1] = 1 if count == 3 or (cell and count == 2) else 0\n",
    "\n",
    "            # print(y, x, cell, count, nextgen)\n",
    "    return nextgrid\n",
    "\n",
    "    \n",
    "      "
   ]
  },
  {
   "cell_type": "code",
   "execution_count": 7,
   "id": "624830cc-4f91-4611-aecc-8f859e9737cd",
   "metadata": {},
   "outputs": [
    {
     "name": "stdout",
     "output_type": "stream",
     "text": [
      " "
     ]
    },
    {
     "data": {
      "text/plain": [
       "         11 function calls in 0.000 seconds\n",
       "\n",
       "   Ordered by: internal time\n",
       "\n",
       "   ncalls  tottime  percall  cumtime  percall filename:lineno(function)\n",
       "        1    0.000    0.000    0.000    0.000 {method 'disable' of '_lsprof.Profiler' objects}\n",
       "        1    0.000    0.000    0.000    0.000 {built-in method builtins.exec}\n",
       "        1    0.000    0.000    0.000    0.000 128818221.py:1(tick_grid)\n",
       "        1    0.000    0.000    0.000    0.000 <string>:1(<module>)\n",
       "        5    0.000    0.000    0.000    0.000 {method 'append' of 'list' objects}\n",
       "        2    0.000    0.000    0.000    0.000 {built-in method builtins.len}"
      ]
     },
     "metadata": {},
     "output_type": "display_data"
    }
   ],
   "source": [
    "\n",
    "nextgrid = tick_grid(grid)\n",
    "nextgrid"
   ]
  },
  {
   "cell_type": "code",
   "execution_count": 14,
   "id": "74d1151d-53ab-4366-9b57-3ea64c44dc35",
   "metadata": {},
   "outputs": [
    {
     "data": {
      "text/plain": [
       "Timer unit: 1e-07 s\n",
       "\n",
       "Total time: 0.0002717 s\n",
       "File: C:\\Users\\cheng\\AppData\\Local\\Temp\\ipykernel_16156\\128818221.py\n",
       "Function: tick_grid at line 1\n",
       "\n",
       "Line #      Hits         Time  Per Hit   % Time  Line Contents\n",
       "==============================================================\n",
       "     1                                           def tick_grid(grid):\n",
       "     2         1         28.0     28.0      1.0      h,w = len(grid), len(grid[0])\n",
       "     3                                           \n",
       "     4         1          8.0      8.0      0.3      nextgrid = []\n",
       "     5         6         71.0     11.8      2.6      for y in range(h):\n",
       "     6         5        112.0     22.4      4.1          nextgrid.append(bytearray(10))\n",
       "     7                                                   \n",
       "     8         6         75.0     12.5      2.8      for y,row in enumerate(grid):\n",
       "     9        30        286.0      9.5     10.5          for x,cell in enumerate(row):\n",
       "    10        25        143.0      5.7      5.3              count = 0\n",
       "    11        25        174.0      7.0      6.4              if y > 0:\n",
       "    12        20        161.0      8.1      5.9                  count += grid[y-1][x-1] if x > 0 else 0\n",
       "    13        20        131.0      6.5      4.8                  count += grid[y-1][x]\n",
       "    14        20        163.0      8.2      6.0                  count += grid[y-1][x+1] if x<w-1 else 0\n",
       "    15                                           \n",
       "    16        25        210.0      8.4      7.7              count += grid[y][x-1] if x > 0 else 0\n",
       "    17        25        208.0      8.3      7.7              count += grid[y][x+1] if x < w-1 else 0\n",
       "    18                                           \n",
       "    19        25        175.0      7.0      6.4              if y < h-1:\n",
       "    20        20        157.0      7.8      5.8                  count += grid[y+1][x-1] if x > 0 else 0\n",
       "    21        20        141.0      7.0      5.2                  count += grid[y+1][x]\n",
       "    22        20        164.0      8.2      6.0                  count += grid[y+1][x+1] if x < w-1 else 0\n",
       "    23                                           \n",
       "    24                                                       # if cell:           \n",
       "    25                                                       #     nextgen = 1 if count == 2 or count == 3 else 0\n",
       "    26                                                       # else:    \n",
       "    27                                                       #     nextgen = 1 if count == 3 else 0\n",
       "    28                                           \n",
       "    29        25        282.0     11.3     10.4              nextgrid[y][x] = 1 if count == 3 or (cell and count == 2) else 0\n",
       "    30                                           \n",
       "    31                                                       # print(y, x, cell, count, nextgen)\n",
       "    32         1         28.0     28.0      1.0      return nextgrid"
      ]
     },
     "metadata": {},
     "output_type": "display_data"
    }
   ],
   "source": [
    "%lprun -f tick_grid tick_grid(grid)"
   ]
  },
  {
   "cell_type": "code",
   "execution_count": 8,
   "id": "8e93dee0-d25a-41e0-8ce5-50df0252f8bb",
   "metadata": {},
   "outputs": [
    {
     "data": {
      "text/plain": [
       "[bytearray(b'\\x00\\x00\\x00\\x00\\x00\\x00\\x00\\x00\\x00\\x00'),\n",
       " bytearray(b'\\x00\\x00\\x00\\x00\\x00\\x00\\x00\\x00\\x00\\x00'),\n",
       " bytearray(b'\\x00\\x00\\x00\\x00\\x00\\x00\\x00\\x00\\x00\\x00'),\n",
       " bytearray(b'\\x00\\x00\\x01\\x00\\x01\\x00\\x00\\x00\\x00\\x00'),\n",
       " bytearray(b'\\x00\\x00\\x00\\x01\\x01\\x00\\x00\\x00\\x00\\x00')]"
      ]
     },
     "execution_count": 8,
     "metadata": {},
     "output_type": "execute_result"
    }
   ],
   "source": [
    "num_generation = 5\n",
    "\n",
    "nextgrid = grid.copy()\n",
    "for i in range(num_generation):\n",
    "    nextgrid = tick_grid(nextgrid)\n",
    "\n",
    "nextgrid"
   ]
  },
  {
   "cell_type": "code",
   "execution_count": null,
   "id": "0c55f63f-a0e7-4273-9aae-1c3af71dcd48",
   "metadata": {},
   "outputs": [],
   "source": []
  },
  {
   "cell_type": "code",
   "execution_count": null,
   "id": "31aa6f11-8abe-4b8f-908d-0c25d302ee4d",
   "metadata": {},
   "outputs": [],
   "source": []
  }
 ],
 "metadata": {
  "kernelspec": {
   "display_name": "Python 3 (ipykernel)",
   "language": "python",
   "name": "python3"
  },
  "language_info": {
   "codemirror_mode": {
    "name": "ipython",
    "version": 3
   },
   "file_extension": ".py",
   "mimetype": "text/x-python",
   "name": "python",
   "nbconvert_exporter": "python",
   "pygments_lexer": "ipython3",
   "version": "3.12.5"
  }
 },
 "nbformat": 4,
 "nbformat_minor": 5
}
