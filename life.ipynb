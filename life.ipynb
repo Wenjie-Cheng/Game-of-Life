{
 "cells": [
  {
   "cell_type": "code",
   "execution_count": 1,
   "id": "e337b9ad-35b0-42e0-a610-cb2c7fa5657c",
   "metadata": {},
   "outputs": [],
   "source": [
    "from life import Life"
   ]
  },
  {
   "cell_type": "code",
   "execution_count": 2,
   "id": "9799e896-afed-467c-8954-876e49b02062",
   "metadata": {},
   "outputs": [],
   "source": [
    "filename = 'life.txt'"
   ]
  },
  {
   "cell_type": "code",
   "execution_count": 3,
   "id": "b53f4924-cef0-4563-a0cf-ae2496da27b7",
   "metadata": {},
   "outputs": [
    {
     "data": {
      "text/plain": [
       "[bitarray('0000000'),\n",
       " bitarray('0000000'),\n",
       " bitarray('0001000'),\n",
       " bitarray('0000100'),\n",
       " bitarray('0011100'),\n",
       " bitarray('0000000'),\n",
       " bitarray('0000000')]"
      ]
     },
     "execution_count": 3,
     "metadata": {},
     "output_type": "execute_result"
    }
   ],
   "source": [
    "life = Life(filename)\n",
    "life.grid"
   ]
  },
  {
   "cell_type": "code",
   "execution_count": 4,
   "id": "f0230f80-9faa-4ba1-9e67-65f58387e7b9",
   "metadata": {},
   "outputs": [],
   "source": [
    "life.tick_grid()"
   ]
  },
  {
   "cell_type": "code",
   "execution_count": 5,
   "id": "40eec565-9674-425d-a75d-fb6416846688",
   "metadata": {},
   "outputs": [
    {
     "data": {
      "text/plain": [
       "[bitarray('0000000'),\n",
       " bitarray('0000000'),\n",
       " bitarray('0000000'),\n",
       " bitarray('0010100'),\n",
       " bitarray('0001100'),\n",
       " bitarray('0001000'),\n",
       " bitarray('0000000')]"
      ]
     },
     "execution_count": 5,
     "metadata": {},
     "output_type": "execute_result"
    }
   ],
   "source": [
    "life.grid"
   ]
  },
  {
   "cell_type": "code",
   "execution_count": 8,
   "id": "8e93dee0-d25a-41e0-8ce5-50df0252f8bb",
   "metadata": {},
   "outputs": [
    {
     "data": {
      "text/plain": [
       "[bytearray(b'\\x00\\x00\\x00\\x00\\x00\\x00\\x00\\x00\\x00\\x00'),\n",
       " bytearray(b'\\x00\\x00\\x00\\x00\\x00\\x00\\x00\\x00\\x00\\x00'),\n",
       " bytearray(b'\\x00\\x00\\x00\\x00\\x00\\x00\\x00\\x00\\x00\\x00'),\n",
       " bytearray(b'\\x00\\x00\\x01\\x00\\x01\\x00\\x00\\x00\\x00\\x00'),\n",
       " bytearray(b'\\x00\\x00\\x00\\x01\\x01\\x00\\x00\\x00\\x00\\x00')]"
      ]
     },
     "execution_count": 8,
     "metadata": {},
     "output_type": "execute_result"
    }
   ],
   "source": [
    "num_generation = 5\n",
    "\n",
    "nextgrid = grid.copy()\n",
    "for i in range(num_generation):\n",
    "    nextgrid = tick_grid(nextgrid)\n",
    "\n",
    "nextgrid"
   ]
  },
  {
   "cell_type": "code",
   "execution_count": null,
   "id": "0c55f63f-a0e7-4273-9aae-1c3af71dcd48",
   "metadata": {},
   "outputs": [],
   "source": []
  },
  {
   "cell_type": "code",
   "execution_count": null,
   "id": "31aa6f11-8abe-4b8f-908d-0c25d302ee4d",
   "metadata": {},
   "outputs": [],
   "source": []
  }
 ],
 "metadata": {
  "kernelspec": {
   "display_name": "Python 3 (ipykernel)",
   "language": "python",
   "name": "python3"
  },
  "language_info": {
   "codemirror_mode": {
    "name": "ipython",
    "version": 3
   },
   "file_extension": ".py",
   "mimetype": "text/x-python",
   "name": "python",
   "nbconvert_exporter": "python",
   "pygments_lexer": "ipython3",
   "version": "3.12.5"
  }
 },
 "nbformat": 4,
 "nbformat_minor": 5
}
